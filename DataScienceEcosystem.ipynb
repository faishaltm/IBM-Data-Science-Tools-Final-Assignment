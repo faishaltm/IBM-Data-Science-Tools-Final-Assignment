{
 "cells": [
  {
   "cell_type": "markdown",
   "id": "ebc4ac56",
   "metadata": {},
   "source": [
    "# Data Science Tools and Ecosystem"
   ]
  },
  {
   "cell_type": "markdown",
   "id": "14c01f11",
   "metadata": {},
   "source": [
    "In this notebook, Data Science Tools and Ecosystem are summarized."
   ]
  },
  {
   "cell_type": "markdown",
   "id": "a52ea7d2",
   "metadata": {},
   "source": [
    "**Objectives**\n",
    "* List of popular languages for Data Science\n",
    "* Most commonly used libraries for Data Science\n",
    "* 3 Tools of Data Science\n",
    "* Arithmetic expression examples"
   ]
  },
  {
   "cell_type": "markdown",
   "id": "a4fb929a",
   "metadata": {},
   "source": [
    "Some of the popular languages that Data Scientists use are:\n",
    "1. Python\n",
    "2. R\n",
    "3. SQL\n",
    "4. Julia\n",
    "5. Matlab\n",
    "6. Scala"
   ]
  },
  {
   "cell_type": "markdown",
   "id": "f003195b",
   "metadata": {},
   "source": [
    "Some of the commonly used libraries used by Data Scientists include:\n",
    "1. Pandas (Python)\n",
    "2. Matplotlib (Python)\n",
    "3. Sckitlearn (Python)\n",
    "4. ggplot (R)"
   ]
  },
  {
   "cell_type": "markdown",
   "id": "aae68db7",
   "metadata": {},
   "source": [
    "| Data Science Tools |\n",
    "| ------------------ |\n",
    "|  Jupyter Notebook  |\n",
    "|     R Studio       |\n",
    "|   Apache Zeppelin  |"
   ]
  },
  {
   "cell_type": "markdown",
   "id": "1c8030bd",
   "metadata": {},
   "source": [
    "### Below are a few examples of evaluating arithmetic expressions in Python"
   ]
  },
  {
   "cell_type": "code",
   "execution_count": 2,
   "id": "eb968ba3",
   "metadata": {},
   "outputs": [
    {
     "data": {
      "text/plain": [
       "17"
      ]
     },
     "execution_count": 2,
     "metadata": {},
     "output_type": "execute_result"
    }
   ],
   "source": [
    "# This a simple arithmetic expression to mutiply then add integers\n",
    "( 3 * 4 ) + 5 "
   ]
  },
  {
   "cell_type": "code",
   "execution_count": 4,
   "id": "93466202",
   "metadata": {},
   "outputs": [
    {
     "name": "stdout",
     "output_type": "stream",
     "text": [
      "How many minutes? 200\n",
      "200 minutes are 3.3333333333333335 hours\n"
     ]
    }
   ],
   "source": [
    "# This will convert 200 minutes to hours by diving by 60\n",
    "x = int(input(\"How many minutes? \"))\n",
    "y = x / 60\n",
    "print(f\"{x} minutes are {y} hours\")"
   ]
  },
  {
   "cell_type": "markdown",
   "id": "91093e67",
   "metadata": {},
   "source": [
    "## Author\n",
    "Faishal T Maoludyo"
   ]
  },
  {
   "cell_type": "code",
   "execution_count": null,
   "id": "9c8ed062",
   "metadata": {},
   "outputs": [],
   "source": []
  }
 ],
 "metadata": {
  "kernelspec": {
   "display_name": "Python 3 (ipykernel)",
   "language": "python",
   "name": "python3"
  },
  "language_info": {
   "codemirror_mode": {
    "name": "ipython",
    "version": 3
   },
   "file_extension": ".py",
   "mimetype": "text/x-python",
   "name": "python",
   "nbconvert_exporter": "python",
   "pygments_lexer": "ipython3",
   "version": "3.10.9"
  }
 },
 "nbformat": 4,
 "nbformat_minor": 5
}
